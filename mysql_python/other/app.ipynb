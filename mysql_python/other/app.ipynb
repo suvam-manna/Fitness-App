{
 "cells": [
  {
   "cell_type": "code",
   "execution_count": 19,
   "metadata": {},
   "outputs": [
    {
     "name": "stdout",
     "output_type": "stream",
     "text": [
      "Connected to MySQL database\n",
      "[(1, 'raju', 't@example.com', '123', datetime.datetime(2024, 3, 23, 2, 35, 15)), (2, 'Tamal', 't@example.com', '123', datetime.datetime(2024, 3, 23, 2, 35, 25)), (4, 'MR Ss', 'ss@gmail.com', '123@$', datetime.datetime(2024, 3, 23, 2, 40, 29)), (5, 'hhhh', 'jkjkl@gg.com', 'uujm123', datetime.datetime(2024, 3, 23, 2, 42, 6)), (6, 'hhhh', 'jkjkl@gg.com', 'uujm123', datetime.datetime(2024, 3, 23, 2, 42, 12)), (7, 'hhhh', 'jkjkl@gg.com', 'uujm123', datetime.datetime(2024, 3, 23, 2, 44, 10)), (8, 'hhhh', '334@gg.com', 'uujm123', datetime.datetime(2024, 3, 23, 2, 44, 44)), (9, 'hhhh', '334@gg.com', 'uujm123', datetime.datetime(2024, 3, 23, 2, 47, 25)), (10, 'hhhh', '334@gg.com', 'uujm123', datetime.datetime(2024, 3, 23, 2, 48, 33)), (11, 'Sushanta', 'ss4@gg.com', '123', datetime.datetime(2024, 3, 23, 2, 51, 38)), (12, 'Manna', 'mm4@gg.com', '123', datetime.datetime(2024, 3, 23, 2, 55, 8)), (13, 'Manna', 'mm4@gg.com', '', datetime.datetime(2024, 3, 23, 2, 56, 49)), (14, 'Manna', 'mm4@gg.com', '777', datetime.datetime(2024, 3, 23, 3, 0, 9)), (15, 'Manna', 'mm4@gg.com', '777', datetime.datetime(2024, 3, 23, 3, 0, 28)), (16, 'Manna', 'mm4@gg.com', '777', datetime.datetime(2024, 3, 23, 3, 2, 8)), (17, 'Manna', 'mm4@gg.com', '777', datetime.datetime(2024, 3, 23, 3, 4, 5)), (18, 'MR Ss', 'ss@gmail.com', '123@$', datetime.datetime(2024, 3, 23, 19, 49, 30)), (19, 'MR Ss', 'ss@gmail.com', '123@$', datetime.datetime(2024, 3, 23, 20, 21, 49))]\n"
     ]
    }
   ],
   "source": [
    "import sqlite3\n",
    "import mysql.connector\n",
    "from dotenv import load_dotenv\n",
    "import os\n",
    "load_dotenv()\n",
    "\n",
    "# Connect to MySQL server\n",
    "db=os.getenv('DB_NAME')\n",
    "mydb = mysql.connector.connect(\n",
    "    host=os.getenv('DB_HOST'),\n",
    "    user=os.getenv('DB_USER'),\n",
    "    password=os.getenv('DB_PASSWORD'),\n",
    "    database=db\n",
    ")\n",
    "cursor=mydb.cursor()\n",
    "if mydb.is_connected():\n",
    "    print(\"Connected to MySQL database\")\n",
    "else:print(\"Not connected\")\n",
    "# query = \"INSERT INTO users (username, email, password) VALUES (%s, %s, %s)\"\n",
    "# values = (\"raj\",\"raj@ggg.com\",\"123\")\n",
    "# print(values)\n",
    "# cursor.execute(\"INSERT INTO users (username,email,password) VALUES (%s,%s,%s)\",(\"MR Ss\",\"ss@gmail.com\",\"123@$\"))\n",
    "# mydb.commit()\n",
    "cursor.execute(\"select * from users\")\n",
    "res=cursor.fetchall()\n",
    "print(res)"
   ]
  },
  {
   "cell_type": "code",
   "execution_count": 9,
   "metadata": {},
   "outputs": [],
   "source": []
  },
  {
   "cell_type": "code",
   "execution_count": 21,
   "metadata": {},
   "outputs": [
    {
     "name": "stdout",
     "output_type": "stream",
     "text": [
      "('tamal1@m.com', '123', 'Tamal', 'Male', 20, 5.5, 60, 'intermediate', '1|2|3', 40, 20, 1)\n",
      "None\n"
     ]
    }
   ],
   "source": [
    "query = \"\"\"INSERT INTO user_table2 (email, password, name, gender, age, height, weight, state, task_choice, goal_points,current_points,course)\n",
    "VALUES (%s, %s, %s, %s, %s, %s, %s, %s, %s, %s, %s, %s)\"\"\"\n",
    "\n",
    "data = {\n",
    "    \"email\": \"tamal1@m.com\",\n",
    "    \"password\": \"123\",\n",
    "    \"name\": \"Tamal\",\n",
    "    \"gender\": \"Male\",\n",
    "    \"age\": 20,\n",
    "    \"height\": 5.5,\n",
    "    \"weight\": 60,\n",
    "    \"state\": \"intermediate\",\n",
    "    \"task_choice\": \"1|2|3\",\n",
    "    \"goal_points\": 40,\n",
    "    \"current_points\": 20,\n",
    "    \"course\": 1\n",
    "}\n",
    "\n",
    "val = (\n",
    "    data['email'],data['password'],data['name'],data['gender'],data['age'],data['height'], data['weight'],data['state'], data['task_choice'],data['goal_points'],data['current_points'],data['course'])\n",
    "\n",
    "print(val)\n",
    "cursor.execute(query, val)\n",
    "mydb.commit()\n"
   ]
  },
  {
   "cell_type": "code",
   "execution_count": 1,
   "metadata": {},
   "outputs": [],
   "source": [
    "sign_up={\n",
    "    \"email\": \"tamal3@m.com\",\n",
    "    \"password\": \"123\",\n",
    "    \"name\": \"Tamal\",\n",
    "    \"gender\": \"Male\",\n",
    "    \"age\": 20,\n",
    "    \"height\": 5.5,\n",
    "    \"weight\": 60,\n",
    "    \"state\": \"intermediate\",\n",
    "    \"task_choice\": \"1|2|3\",\n",
    "    \"goal_points\": 40,\n",
    "    \"current_points\": 0,\n",
    "    \"course\": 1\n",
    "}"
   ]
  },
  {
   "cell_type": "code",
   "execution_count": 22,
   "metadata": {},
   "outputs": [],
   "source": [
    "from django.http import HttpResponse\n",
    "\n",
    "def greet_name(request):\n",
    "    # Get the value of the 'name' parameter from the request's query string\n",
    "    name = request.GET.get('name', 'Guest')\n",
    "    # Generate the greeting message\n",
    "    greeting = f'Hello, {name}!'\n",
    "    # Return an HTTP response with the greeting message\n",
    "    return HttpResponse(greeting)\n"
   ]
  },
  {
   "cell_type": "code",
   "execution_count": 3,
   "metadata": {},
   "outputs": [
    {
     "ename": "RuntimeError",
     "evalue": "asyncio.run() cannot be called from a running event loop",
     "output_type": "error",
     "traceback": [
      "\u001b[1;31m---------------------------------------------------------------------------\u001b[0m",
      "\u001b[1;31mRuntimeError\u001b[0m                              Traceback (most recent call last)",
      "Cell \u001b[1;32mIn[3], line 17\u001b[0m\n\u001b[0;32m     14\u001b[0m     \u001b[38;5;28mprint\u001b[39m(\u001b[38;5;124m\"\u001b[39m\u001b[38;5;124mMain function completed\u001b[39m\u001b[38;5;124m\"\u001b[39m)\n\u001b[0;32m     16\u001b[0m \u001b[38;5;66;03m# Run the main function asynchronously\u001b[39;00m\n\u001b[1;32m---> 17\u001b[0m \u001b[43masyncio\u001b[49m\u001b[38;5;241;43m.\u001b[39;49m\u001b[43mrun\u001b[49m\u001b[43m(\u001b[49m\u001b[43mmain\u001b[49m\u001b[43m(\u001b[49m\u001b[43m)\u001b[49m\u001b[43m)\u001b[49m\n",
      "File \u001b[1;32m~\\AppData\\Local\\Programs\\Python\\Python312\\Lib\\asyncio\\runners.py:190\u001b[0m, in \u001b[0;36mrun\u001b[1;34m(main, debug, loop_factory)\u001b[0m\n\u001b[0;32m    161\u001b[0m \u001b[38;5;250m\u001b[39m\u001b[38;5;124;03m\"\"\"Execute the coroutine and return the result.\u001b[39;00m\n\u001b[0;32m    162\u001b[0m \n\u001b[0;32m    163\u001b[0m \u001b[38;5;124;03mThis function runs the passed coroutine, taking care of\u001b[39;00m\n\u001b[1;32m   (...)\u001b[0m\n\u001b[0;32m    186\u001b[0m \u001b[38;5;124;03m    asyncio.run(main())\u001b[39;00m\n\u001b[0;32m    187\u001b[0m \u001b[38;5;124;03m\"\"\"\u001b[39;00m\n\u001b[0;32m    188\u001b[0m \u001b[38;5;28;01mif\u001b[39;00m events\u001b[38;5;241m.\u001b[39m_get_running_loop() \u001b[38;5;129;01mis\u001b[39;00m \u001b[38;5;129;01mnot\u001b[39;00m \u001b[38;5;28;01mNone\u001b[39;00m:\n\u001b[0;32m    189\u001b[0m     \u001b[38;5;66;03m# fail fast with short traceback\u001b[39;00m\n\u001b[1;32m--> 190\u001b[0m     \u001b[38;5;28;01mraise\u001b[39;00m \u001b[38;5;167;01mRuntimeError\u001b[39;00m(\n\u001b[0;32m    191\u001b[0m         \u001b[38;5;124m\"\u001b[39m\u001b[38;5;124masyncio.run() cannot be called from a running event loop\u001b[39m\u001b[38;5;124m\"\u001b[39m)\n\u001b[0;32m    193\u001b[0m \u001b[38;5;28;01mwith\u001b[39;00m Runner(debug\u001b[38;5;241m=\u001b[39mdebug, loop_factory\u001b[38;5;241m=\u001b[39mloop_factory) \u001b[38;5;28;01mas\u001b[39;00m runner:\n\u001b[0;32m    194\u001b[0m     \u001b[38;5;28;01mreturn\u001b[39;00m runner\u001b[38;5;241m.\u001b[39mrun(main)\n",
      "\u001b[1;31mRuntimeError\u001b[0m: asyncio.run() cannot be called from a running event loop"
     ]
    }
   ],
   "source": []
  },
  {
   "cell_type": "code",
   "execution_count": 25,
   "metadata": {},
   "outputs": [
    {
     "name": "stdout",
     "output_type": "stream",
     "text": [
      " * Serving Flask app '__main__'\n",
      " * Debug mode: off\n"
     ]
    },
    {
     "name": "stderr",
     "output_type": "stream",
     "text": [
      "WARNING: This is a development server. Do not use it in a production deployment. Use a production WSGI server instead.\n",
      " * Running on http://127.0.0.1:5000\n",
      "Press CTRL+C to quit\n",
      "127.0.0.1 - - [23/Mar/2024 01:30:30] \"POST /add HTTP/1.1\" 200 -\n",
      "127.0.0.1 - - [23/Mar/2024 01:30:31] \"POST /add HTTP/1.1\" 200 -\n",
      "127.0.0.1 - - [23/Mar/2024 01:30:39] \"POST /add HTTP/1.1\" 200 -\n"
     ]
    }
   ],
   "source": [
    "from flask import Flask, request, jsonify\n",
    "app = Flask(__name__)\n",
    "\n",
    "@app.route('/')\n",
    "def hello_world():\n",
    "\treturn 'Hello World'\n",
    "\n",
    "@app.route('/add', methods=['POST'])\n",
    "def add_numbers():\n",
    "    data = request.json\n",
    "    if 'num1' not in data or 'num2' not in data:\n",
    "        return jsonify({'error': 'Please provide both numbers (num1 and num2) in the request body'}), 400\n",
    "    num1 = data['num1']\n",
    "    num2 = data['num2']\n",
    "    \n",
    "    try:\n",
    "        # Convert input to numbers and calculate sum\n",
    "        sum_result = float(num1) + float(num2)\n",
    "        return jsonify({'sum': sum_result}), 200\n",
    "    except ValueError:\n",
    "        return jsonify({'error': 'Invalid input. Please provide valid numbers'}), 400\n",
    "\n",
    "\n",
    "if __name__ == '__main__':\n",
    "\tapp.run()\n"
   ]
  },
  {
   "cell_type": "code",
   "execution_count": 42,
   "metadata": {},
   "outputs": [
    {
     "data": {
      "text/plain": [
       "1927.9935440000002"
      ]
     },
     "execution_count": 42,
     "metadata": {},
     "output_type": "execute_result"
    }
   ],
   "source": [
    "# For men: (9.65 × weight in kg) + (573 × height in m) – (5.08 × age in years) + 260\n",
    "# For women: (7.38 × weight in kg) + (607 × height in m) – (2.31 × age in years) + 43\n",
    "def BMR(weight,height,age,gender): \n",
    "    #ref https://www.medicalnewstoday.com/articles/319731#calculating-daily-calorie-burn\n",
    "    xy=9.65*weight+573*height-5.08*age +260\n",
    "    xx=7.38*weight+607*height-2.31*age+43\n",
    "    if gender.lower()=='male':return xy\n",
    "    elif gender.lower()=='female':return xx\n",
    "    else:return (xx+xy)/2\n",
    "meter=0.3048*5.11\n",
    "\n",
    "BMR(93,meter,24,'male')"
   ]
  },
  {
   "cell_type": "code",
   "execution_count": null,
   "metadata": {},
   "outputs": [],
   "source": [
    "# The best way to calculate your daily protein needs is using your weight. Based on averages from evidence-backed recommendations, a general rule of thumb is to eat about 1.2g protein per kg of body weight to maintain muscle. This may increase to 1.2-1.6g/kg of body weight when looking to add lean mass or if you’re a woman in midlife.\n",
    "\n",
    "# A weightlifter or strength athlete looking to add muscle mass and who will be using their muscles more than the average person will naturally require more protein – between 1.4-2g/kg of body weight per day.\n",
    "# https://www.maxinutrition.com/nutrition/advice/How-to-build-muscle-and-size/\n",
    "# https://www.trifectanutrition.com/blog/how-many-calories-should-i-eat-to-gain-weight"
   ]
  },
  {
   "cell_type": "code",
   "execution_count": 41,
   "metadata": {},
   "outputs": [
    {
     "name": "stdout",
     "output_type": "stream",
     "text": [
      "1454\n"
     ]
    },
    {
     "data": {
      "text/plain": [
       "[48.0, 72.0, 102.0]"
      ]
     },
     "execution_count": 41,
     "metadata": {},
     "output_type": "execute_result"
    }
   ],
   "source": [
    "\n",
    "def maintainance_cal(kg,gender):\n",
    "    pound=kg*2.204\n",
    "    if gender.lower()=='male':\n",
    "        return int(pound*11)\n",
    "    else:\n",
    "        return int(pound*10)\n",
    "def protien_fat_carbs(cal,weight_kg):\n",
    "    # protien https://www.acsm.org/docs/default-source/files-for-resource-library/protein-intake-for-optimal-muscle-maintenance.pdf\n",
    "    fat=[cal*.25/9,cal*.3/9,cal*.35/9]\n",
    "    protien=[weight_kg*0.8,weight_kg*1.2,weight_kg*1.7]\n",
    "    return protien\n",
    "def calorie_surplus(weight_kg,gender,cal_burn):\n",
    "    minimum=maintainance_cal(weight_kg,gender)\n",
    "    print(minimum)\n",
    "    begginer=int(minimum*1.05+cal_burn)\n",
    "    intermediate=int(minimum*1.07+cal_burn)\n",
    "    advance=int(minimum*1.1+cal_burn)\n",
    "\n",
    "    return begginer,intermediate,advance\n",
    "\n",
    "maintainance_cal(180,'Male')\n",
    "x=calorie_surplus(60,'male',300)\n",
    "protien_fat_carbs(x[0],60)\n",
    "# x"
   ]
  },
  {
   "cell_type": "code",
   "execution_count": 30,
   "metadata": {},
   "outputs": [
    {
     "data": {
      "text/plain": [
       "71.21249999999999"
      ]
     },
     "execution_count": 30,
     "metadata": {},
     "output_type": "execute_result"
    }
   ],
   "source": [
    "x[2]*.15/4"
   ]
  },
  {
   "cell_type": "code",
   "execution_count": 15,
   "metadata": {},
   "outputs": [
    {
     "name": "stdout",
     "output_type": "stream",
     "text": [
      "1.6764000000000001\n",
      "1.44\n"
     ]
    },
    {
     "data": {
      "text/plain": [
       "{'BMR': 1775,\n",
       " 'base_cal': 2752,\n",
       " 'mucle_growth': 3252,\n",
       " 'weight_loss': 2252,\n",
       " 'protien_required': '98 gram',\n",
       " 'fat_required': '76 - 107 gram'}"
      ]
     },
     "execution_count": 15,
     "metadata": {},
     "output_type": "execute_result"
    }
   ],
   "source": [
    "def BMR(weight,height,age,gender): \n",
    "    #ref https://www.medicalnewstoday.com/articles/319731#calculating-daily-calorie-burn\n",
    "    xy=9.65*weight+573*height-5.08*age +260\n",
    "    xx=7.38*weight+607*height-2.31*age+43\n",
    "    if gender.lower()=='male':return xy\n",
    "    elif gender.lower()=='female':return xx\n",
    "    else:return (xx+xy)/2\n",
    "\n",
    "def maintainance_cal(weight,height,age,gender,activity,cal_burn,activity_flag):\n",
    "    activity_points=1.2 # no /very very less activity\n",
    "    protien_points=0.8\n",
    "    if activity>=1:\n",
    "        activity_points+=0.175\n",
    "        protien_points=1.2\n",
    "    if activity>=3:\n",
    "        activity_points+=0.175\n",
    "        protien_points+=0.24\n",
    "    if activity>=6:\n",
    "        activity_points+=0.175\n",
    "        protien_points+=0.24\n",
    "    if activity>7: # max 1.9\n",
    "        activity_points+=0.175\n",
    "        protien_points+=0.24\n",
    "    print(protien_points)\n",
    "    bmr=BMR(weight,height,age,gender)\n",
    "    if activity_flag :cal=round(activity_points*bmr) \n",
    "    else:cal=(bmr+cal_burn)*1.2\n",
    "    # print(bmr)\n",
    "    fat=round(cal*.3)\n",
    "    dic={'BMR':round(bmr),\n",
    "         'base_cal':round(cal),\n",
    "         'mucle_growth':round(cal+500),\n",
    "         'weight_loss':round(cal-500),\n",
    "         'protien_required':f\"{round(protien_points*weight)} gram\",\n",
    "         'fat_required':f\"{round(cal*0.25/9)} - {round(cal*0.35/9)} gram\"}\n",
    "    return dic\n",
    "meter=(5 * 0.3048) + (6 * 0.0254)\n",
    "print(meter)\n",
    "BMR(93,meter,24,'male')\n",
    "maintainance_cal(68,meter,20,'male',5,252,True)\n"
   ]
  },
  {
   "cell_type": "code",
   "execution_count": 139,
   "metadata": {},
   "outputs": [
    {
     "data": {
      "text/plain": [
       "28.425241614553727"
      ]
     },
     "execution_count": 139,
     "metadata": {},
     "output_type": "execute_result"
    }
   ],
   "source": [
    "500/1759*100\n",
    "# Harsh 168 cm, 65 kh, 20 years, protien 100 g"
   ]
  },
  {
   "cell_type": "code",
   "execution_count": 35,
   "metadata": {},
   "outputs": [
    {
     "name": "stdout",
     "output_type": "stream",
     "text": [
      "BMR 2 =  2171.3024000000005\n",
      "1.3657991074849822\n"
     ]
    },
    {
     "data": {
      "text/plain": [
       "{'BMR': '2171 cal',\n",
       " 'minimum_calories': '2606 cal',\n",
       " 'recommended_calories': '2966 cal',\n",
       " 'protein_required': '80 - 137 gram',\n",
       " 'fat_required': '82 - 99 gram',\n",
       " 'carbs_required': '382 - 386 gram'}"
      ]
     },
     "execution_count": 35,
     "metadata": {},
     "output_type": "execute_result"
    }
   ],
   "source": [
    "def BMR(weight,height,age,gender): \n",
    "    #ref BMR https://www.medicalnewstoday.com/articles/319731#calculating-daily-calorie-burn\n",
    "    # ref protein https://www.acsm.org/docs/default-source/files-for-resource-library/protein-intake-for-optimal-muscle-maintenance.pdf\n",
    "    xy=9.65*weight+573*height-5.08*age +260\n",
    "    xx=7.38*weight+607*height-2.31*age+43\n",
    "    if gender.lower()=='male':return xy\n",
    "    elif gender.lower()=='female':return xx\n",
    "    else:return (xx+xy)/2\n",
    "\n",
    "def maintainance_cal(weight,height,age,gender,cal_burn):\n",
    "    bmr=BMR(weight,height,age,gender)\n",
    "    print(\"BMR 2 = \",bmr)\n",
    "    cal=(bmr+cal_burn)*1.2\n",
    "    protien_points=min((cal)/bmr,2)\n",
    "    print(protien_points)\n",
    "    carbs_min=min((bmr*1.2-0.8*weight*4-cal*0.25),(cal-protien_points*weight*4-cal*0.3)) # cal\n",
    "    carbs_max=max((bmr*1.2-0.8*weight*4-cal*0.25),(cal-protien_points*weight*4-cal*0.3)) # cal\n",
    "    dic={'BMR':f\"{round(bmr)} cal\",\n",
    "         'minimum_calories':f\"{round(bmr*1.2)} cal\",\n",
    "         'recommended_calories':f\"{round(cal)} cal\",\n",
    "         'protein_required':f\"{round(0.8*weight)} - {round(protien_points*weight)} gram\",\n",
    "         'fat_required':f\"{round(cal*0.25/9)} - {round(cal*0.3/9)} gram\",\n",
    "         'carbs_required':f\"{round(carbs_min/4)} - {round(carbs_max/4)} gram\"\n",
    "         }\n",
    "    return dic\n",
    "meter=(6 * 0.3048) + (0 * 0.0254)\n",
    "# print(\"BMR = \",BMR(100,meter,24,'male'))\n",
    "# print(meter)\n",
    "maintainance_cal(100,meter,20,'male',300)"
   ]
  },
  {
   "cell_type": "markdown",
   "metadata": {},
   "source": [
    "## Exersize data"
   ]
  },
  {
   "cell_type": "code",
   "execution_count": 1,
   "metadata": {},
   "outputs": [
    {
     "name": "stdout",
     "output_type": "stream",
     "text": [
      "Weight Lifting: general 3\n",
      "Aerobics: water 4\n",
      "Stretching, Hatha Yoga 4\n",
      "Calisthenics: moderate 4\n",
      "Aerobics: low impact 6\n",
      "Stair Step Machine: general 6\n",
      "Weight Lifting: vigorous 6\n",
      "Aerobics, Step: low impact 7\n",
      "Aerobics: high impact 7\n",
      "Bicycling, Stationary: moderate 7\n",
      "Rowing, Stationary: moderate 7\n",
      "Calisthenics: vigorous 8\n",
      "Circuit Training: general 8\n",
      "Rowing, Stationary: vigorous 8\n",
      "Elliptical Trainer: general 9\n",
      "Ski Machine: general 10\n",
      "Aerobics, Step: high impact 10\n",
      "Bicycling, Stationary: vigorous 10\n"
     ]
    }
   ],
   "source": [
    "import pandas as pd\n",
    "with open('file.txt','r') as file:\n",
    "    lines=file.read().split('\\n')\n",
    "\n",
    "for line in lines:\n",
    "    if line:\n",
    "        block=line.split('||')\n",
    "        exer,cal=block[0],round(int(block[1])/30)\n",
    "        print(exer,cal)"
   ]
  },
  {
   "cell_type": "code",
   "execution_count": 37,
   "metadata": {},
   "outputs": [
    {
     "name": "stdout",
     "output_type": "stream",
     "text": [
      "   Category           Exercise      Target Duration  No Set\n",
      "0  Beginner         ARM SWINGS    Shoulder       20  10   1\n",
      "1  Beginner      SIDE ROTATION    Shoulder       20  10   1\n",
      "2  Beginner          SIDE LOGS       Chest       20   5   1\n",
      "3  Beginner  STANDING CRUNCHES  Abdominals       20   5   1\n",
      "4  Beginner           TWISTERS  Abdominals       20   5   1\n",
      "78\n"
     ]
    }
   ],
   "source": [
    "df=pd.read_csv(\"../exercize.csv\")\n",
    "print(df.head())\n",
    "print(len(df))"
   ]
  }
 ],
 "metadata": {
  "kernelspec": {
   "display_name": "fitness_tracker_and_recommendation",
   "language": "python",
   "name": "python3"
  },
  "language_info": {
   "codemirror_mode": {
    "name": "ipython",
    "version": 3
   },
   "file_extension": ".py",
   "mimetype": "text/x-python",
   "name": "python",
   "nbconvert_exporter": "python",
   "pygments_lexer": "ipython3",
   "version": "3.12.2"
  }
 },
 "nbformat": 4,
 "nbformat_minor": 2
}
